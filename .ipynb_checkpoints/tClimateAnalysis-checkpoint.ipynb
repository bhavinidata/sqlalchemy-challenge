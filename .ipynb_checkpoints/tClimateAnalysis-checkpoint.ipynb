{
 "cells": [
  {
   "cell_type": "markdown",
   "metadata": {},
   "source": [
    "# Climate Analysis Honolulu, Hawaii"
   ]
  },
  {
   "cell_type": "code",
   "execution_count": 1,
   "metadata": {},
   "outputs": [],
   "source": [
    "import matplotlib.pyplot as plt\n",
    "%matplotlib inline\n",
    "from matplotlib import style\n",
    "style.use('fivethirtyeight')"
   ]
  },
  {
   "cell_type": "code",
   "execution_count": 2,
   "metadata": {},
   "outputs": [],
   "source": [
    "import numpy as np\n",
    "import pandas as pd\n",
    "import scipy.stats as stats"
   ]
  },
  {
   "cell_type": "code",
   "execution_count": 3,
   "metadata": {},
   "outputs": [],
   "source": [
    "import datetime as dt\n",
    "from dateutil.relativedelta import relativedelta"
   ]
  },
  {
   "cell_type": "markdown",
   "metadata": {},
   "source": [
    "## Reflect Tables into SQLAlchemy ORM"
   ]
  },
  {
   "cell_type": "code",
   "execution_count": 4,
   "metadata": {},
   "outputs": [],
   "source": [
    "import sqlalchemy\n",
    "from sqlalchemy.ext.automap import automap_base\n",
    "from sqlalchemy.orm import Session\n",
    "from sqlalchemy import create_engine, func, inspect, and_, or_, desc, extract"
   ]
  },
  {
   "cell_type": "code",
   "execution_count": 5,
   "metadata": {},
   "outputs": [],
   "source": [
    "database_path = \"sqlite:///Resources/hawaii.sqlite\"\n",
    "engine = create_engine(database_path)"
   ]
  },
  {
   "cell_type": "code",
   "execution_count": 6,
   "metadata": {},
   "outputs": [],
   "source": [
    "# reflect an existing database into a new model\n",
    "Base = automap_base()\n",
    "# reflect the tables\n",
    "Base.prepare(engine, reflect= True)"
   ]
  },
  {
   "cell_type": "code",
   "execution_count": 7,
   "metadata": {},
   "outputs": [
    {
     "data": {
      "text/plain": [
       "['measurement', 'station']"
      ]
     },
     "execution_count": 7,
     "metadata": {},
     "output_type": "execute_result"
    }
   ],
   "source": [
    "# engine.table_names()\n",
    "Base.classes.keys()"
   ]
  },
  {
   "cell_type": "code",
   "execution_count": 8,
   "metadata": {},
   "outputs": [],
   "source": [
    "# Save references to each table\n",
    "Measurements = Base.classes.measurement\n",
    "Station = Base.classes.station"
   ]
  },
  {
   "cell_type": "code",
   "execution_count": 9,
   "metadata": {},
   "outputs": [],
   "source": [
    "# Create our session (link) from Python to the DB\n",
    "session = Session(engine)"
   ]
  },
  {
   "cell_type": "markdown",
   "metadata": {},
   "source": [
    "## Exploratory Climate Analysis"
   ]
  },
  {
   "cell_type": "markdown",
   "metadata": {},
   "source": [
    "### Precipitation Analysis\n",
    "\n",
    "* Design a query to retrieve the last 12 months of precipitation data.\n",
    "* Select only the date and prcp values.\n",
    "* Load the query results into a Pandas DataFrame and set the index to the date column.\n",
    "* Sort the DataFrame values by date.\n",
    "* Plot the results using the DataFrame plot method."
   ]
  },
  {
   "cell_type": "code",
   "execution_count": 10,
   "metadata": {},
   "outputs": [
    {
     "data": {
      "text/plain": [
       "'2017-08-23'"
      ]
     },
     "execution_count": 10,
     "metadata": {},
     "output_type": "execute_result"
    }
   ],
   "source": [
    "#get the last date\n",
    "last_date = session.query(func.max(Measurements.date)).first()[0]\n",
    "last_date"
   ]
  },
  {
   "cell_type": "code",
   "execution_count": 11,
   "metadata": {},
   "outputs": [
    {
     "data": {
      "text/plain": [
       "datetime.datetime(2017, 8, 23, 0, 0)"
      ]
     },
     "execution_count": 11,
     "metadata": {},
     "output_type": "execute_result"
    }
   ],
   "source": [
    "#convert date string to datetime object\n",
    "last_date = dt.datetime.strptime(last_date, '%Y-%m-%d')\n",
    "last_date"
   ]
  },
  {
   "cell_type": "code",
   "execution_count": 12,
   "metadata": {},
   "outputs": [],
   "source": [
    "#extract year, month, and day as integers\n",
    "last_year = int(dt.datetime.strftime(last_date, '%Y'))\n",
    "last_month = int(dt.datetime.strftime(last_date, '%m'))\n",
    "last_day = int(dt.datetime.strftime(last_date, '%d'))"
   ]
  },
  {
   "cell_type": "code",
   "execution_count": 13,
   "metadata": {},
   "outputs": [
    {
     "data": {
      "text/plain": [
       "datetime.date(2016, 8, 23)"
      ]
     },
     "execution_count": 13,
     "metadata": {},
     "output_type": "execute_result"
    }
   ],
   "source": [
    "#calculate one year before latest date\n",
    "dt_year_before = dt.date(last_year, last_month, last_day) - relativedelta(months=12)\n",
    "dt_year_before"
   ]
  },
  {
   "cell_type": "code",
   "execution_count": 14,
   "metadata": {},
   "outputs": [
    {
     "data": {
      "text/html": [
       "<div>\n",
       "<style scoped>\n",
       "    .dataframe tbody tr th:only-of-type {\n",
       "        vertical-align: middle;\n",
       "    }\n",
       "\n",
       "    .dataframe tbody tr th {\n",
       "        vertical-align: top;\n",
       "    }\n",
       "\n",
       "    .dataframe thead th {\n",
       "        text-align: right;\n",
       "    }\n",
       "</style>\n",
       "<table border=\"1\" class=\"dataframe\">\n",
       "  <thead>\n",
       "    <tr style=\"text-align: right;\">\n",
       "      <th></th>\n",
       "      <th>prcp</th>\n",
       "    </tr>\n",
       "    <tr>\n",
       "      <th>date</th>\n",
       "      <th></th>\n",
       "    </tr>\n",
       "  </thead>\n",
       "  <tbody>\n",
       "    <tr>\n",
       "      <th>2016-08-23</th>\n",
       "      <td>0.00</td>\n",
       "    </tr>\n",
       "    <tr>\n",
       "      <th>2016-08-23</th>\n",
       "      <td>0.15</td>\n",
       "    </tr>\n",
       "    <tr>\n",
       "      <th>2016-08-23</th>\n",
       "      <td>0.05</td>\n",
       "    </tr>\n",
       "    <tr>\n",
       "      <th>2016-08-23</th>\n",
       "      <td>NaN</td>\n",
       "    </tr>\n",
       "    <tr>\n",
       "      <th>2016-08-23</th>\n",
       "      <td>0.02</td>\n",
       "    </tr>\n",
       "  </tbody>\n",
       "</table>\n",
       "</div>"
      ],
      "text/plain": [
       "            prcp\n",
       "date            \n",
       "2016-08-23  0.00\n",
       "2016-08-23  0.15\n",
       "2016-08-23  0.05\n",
       "2016-08-23   NaN\n",
       "2016-08-23  0.02"
      ]
     },
     "execution_count": 14,
     "metadata": {},
     "output_type": "execute_result"
    }
   ],
   "source": [
    "# Perform a query to retrieve precipitation scores associated with last year date\n",
    "sel = [Measurements.date,\n",
    "       Measurements.prcp]\n",
    "\n",
    "lastyear_prcpdata = session.query(*sel).\\\n",
    "    filter(and_(Measurements.date <= last_date, Measurements.date >= dt_year_before)).\\\n",
    "    order_by(Measurements.date).all()\n",
    "\n",
    "\n",
    "# Save the query results as a Pandas DataFrame and set the index to the date column\n",
    "lastyear_prcp_df = pd.DataFrame(lastyear_prcpdata)\n",
    "# set the date as index.\n",
    "lastyear_prcp_df.set_index('date', inplace = True)\n",
    "# Sort the dataframe by date\n",
    "lastyear_prcp_df.sort_index(ascending=True, inplace=True)\n",
    "lastyear_prcp_df.head()"
   ]
  },
  {
   "cell_type": "code",
   "execution_count": 15,
   "metadata": {},
   "outputs": [
    {
     "data": {
      "image/png": "[encoded data removed]",
      "text/plain": [
       "<Figure size 1080x720 with 1 Axes>"
      ]
     },
     "metadata": {
      "needs_background": "light"
     },
     "output_type": "display_data"
    }
   ],
   "source": [
    "lastyear_prcp_df.plot(title=\"Precipitation Data: 8/23/16 - 8/23/17\", fontsize = 15, figsize=(15, 10))\n",
    "plt.tight_layout()\n",
    "plt.show()"
   ]
  },
  {
   "cell_type": "markdown",
   "metadata": {},
   "source": [
    "#### Use Pandas to print the summary statistics for the precipitation data."
   ]
  },
  {
   "cell_type": "code",
   "execution_count": 16,
   "metadata": {},
   "outputs": [
    {
     "data": {
      "text/html": [
       "<div>\n",
       "<style scoped>\n",
       "    .dataframe tbody tr th:only-of-type {\n",
       "        vertical-align: middle;\n",
       "    }\n",
       "\n",
       "    .dataframe tbody tr th {\n",
       "        vertical-align: top;\n",
       "    }\n",
       "\n",
       "    .dataframe thead th {\n",
       "        text-align: right;\n",
       "    }\n",
       "</style>\n",
       "<table border=\"1\" class=\"dataframe\">\n",
       "  <thead>\n",
       "    <tr style=\"text-align: right;\">\n",
       "      <th></th>\n",
       "      <th>prcp</th>\n",
       "    </tr>\n",
       "  </thead>\n",
       "  <tbody>\n",
       "    <tr>\n",
       "      <th>count</th>\n",
       "      <td>2021.000000</td>\n",
       "    </tr>\n",
       "    <tr>\n",
       "      <th>mean</th>\n",
       "      <td>0.177279</td>\n",
       "    </tr>\n",
       "    <tr>\n",
       "      <th>std</th>\n",
       "      <td>0.461190</td>\n",
       "    </tr>\n",
       "    <tr>\n",
       "      <th>min</th>\n",
       "      <td>0.000000</td>\n",
       "    </tr>\n",
       "    <tr>\n",
       "      <th>25%</th>\n",
       "      <td>0.000000</td>\n",
       "    </tr>\n",
       "    <tr>\n",
       "      <th>50%</th>\n",
       "      <td>0.020000</td>\n",
       "    </tr>\n",
       "    <tr>\n",
       "      <th>75%</th>\n",
       "      <td>0.130000</td>\n",
       "    </tr>\n",
       "    <tr>\n",
       "      <th>max</th>\n",
       "      <td>6.700000</td>\n",
       "    </tr>\n",
       "  </tbody>\n",
       "</table>\n",
       "</div>"
      ],
      "text/plain": [
       "              prcp\n",
       "count  2021.000000\n",
       "mean      0.177279\n",
       "std       0.461190\n",
       "min       0.000000\n",
       "25%       0.000000\n",
       "50%       0.020000\n",
       "75%       0.130000\n",
       "max       6.700000"
      ]
     },
     "execution_count": 16,
     "metadata": {},
     "output_type": "execute_result"
    }
   ],
   "source": [
    "# calcualte the summary statistics for the precipitation data\n",
    "prcp_stat_summary = pd.DataFrame(lastyear_prcp_df[\"prcp\"].describe())\n",
    "prcp_stat_summary"
   ]
  },
  {
   "cell_type": "markdown",
   "metadata": {},
   "source": [
    "### Station Analysis\n",
    "\n",
    "* Design a query to calculate the total number of stations.\n",
    "* Design a query to find the most active stations.\n",
    "* List the stations and observation counts in descending order.\n",
    "* Which station has the highest number of observations?\n",
    "* Design a query to retrieve the last 12 months of temperature observation data (tobs).\n",
    "* Filter by the station with the highest number of observations.\n",
    "* Plot the results as a histogram with bins=12."
   ]
  },
  {
   "cell_type": "code",
   "execution_count": 17,
   "metadata": {},
   "outputs": [
    {
     "data": {
      "text/plain": [
       "9"
      ]
     },
     "execution_count": 17,
     "metadata": {},
     "output_type": "execute_result"
    }
   ],
   "source": [
    "# Design a query to show how many stations are available in this dataset?\n",
    "no_of_stations = session.query(Station).count()\n",
    "no_of_stations"
   ]
  },
  {
   "cell_type": "code",
   "execution_count": 18,
   "metadata": {},
   "outputs": [
    {
     "data": {
      "text/plain": [
       "[('USC00519281', 2772),\n",
       " ('USC00519397', 2724),\n",
       " ('USC00513117', 2709),\n",
       " ('USC00519523', 2669),\n",
       " ('USC00516128', 2612),\n",
       " ('USC00514830', 2202),\n",
       " ('USC00511918', 1979),\n",
       " ('USC00517948', 1372),\n",
       " ('USC00518838', 511)]"
      ]
     },
     "execution_count": 18,
     "metadata": {},
     "output_type": "execute_result"
    }
   ],
   "source": [
    "# What are the most active stations? (i.e. what stations have the most rows)?\n",
    "# List the stations and the counts in descending order.\n",
    "\n",
    "sel = [Measurements.station,\n",
    "       func.count(Measurements.station).label('no_of_stations')]\n",
    "count_per_station = session.query(*sel).\\\n",
    "                        group_by(Measurements.station).\\\n",
    "                        order_by(desc('no_of_stations')).all()\n",
    "count_per_station"
   ]
  },
  {
   "cell_type": "code",
   "execution_count": 19,
   "metadata": {},
   "outputs": [
    {
     "name": "stdout",
     "output_type": "stream",
     "text": [
      "Most active station is:: USC00519281-WAIHEE 837.5, HI US\n"
     ]
    }
   ],
   "source": [
    "# Most active station.\n",
    "most_active_station = count_per_station[0][0]\n",
    "active_station_name = session.query(Station.name).\\\n",
    "                              filter(Station.station == most_active_station).all()\n",
    "print(f\"Most active station is:: {most_active_station}-{active_station_name[0][0]}\")\n"
   ]
  },
  {
   "cell_type": "code",
   "execution_count": 20,
   "metadata": {},
   "outputs": [
    {
     "name": "stdout",
     "output_type": "stream",
     "text": [
      "Temperature data for most active station (USC00519281).\n",
      "-----------------------------------------\n",
      "Minimum Temperature: 54.0\n",
      "Maximum Temperature: 85.0\n",
      "Average Temperature: 71.66378066378067\n"
     ]
    }
   ],
   "source": [
    "# Using the station id from the previous query, calculate the lowest temperature recorded, \n",
    "# highest temperature recorded, and average temperature most active station?\n",
    "\n",
    "sel =[func.min(Measurements.tobs),\n",
    "     func.max(Measurements.tobs),\n",
    "     func.avg(Measurements.tobs)]\n",
    "\n",
    "temp_stat = session.query(*sel).\\\n",
    "                    filter(Measurements.station == most_active_station).all()\n",
    "temp_stat\n",
    "print(f\"Temperature data for most active station ({most_active_station}).\")\n",
    "print(f\"-----------------------------------------\")\n",
    "print(f\"Minimum Temperature: {temp_stat[0][0]}\")\n",
    "print(f\"Maximum Temperature: {temp_stat[0][1]}\")\n",
    "print(f\"Average Temperature: {temp_stat[0][2]}\")"
   ]
  },
  {
   "cell_type": "code",
   "execution_count": 21,
   "metadata": {},
   "outputs": [
    {
     "data": {
      "text/plain": [
       "<matplotlib.axes._subplots.AxesSubplot at 0x1a19bdc240>"
      ]
     },
     "execution_count": 21,
     "metadata": {},
     "output_type": "execute_result"
    },
    {
     "data": {
      "image/png": "[encoded data removed]",
      "text/plain": [
       "<Figure size 432x288 with 1 Axes>"
      ]
     },
     "metadata": {
      "needs_background": "light"
     },
     "output_type": "display_data"
    }
   ],
   "source": [
    "# Choose the station with the highest number of temperature observations.\n",
    "# Query the last 12 months of temperature observation data for this station and plot the results as a histogram\n",
    "\n",
    "sel = [Measurements.date,\n",
    "       Measurements.tobs]\n",
    "\n",
    "lastyear_tobs = session.query(*sel).\\\n",
    "    filter(Measurements.station == most_active_station).\\\n",
    "    filter(and_(Measurements.date <= last_date, Measurements.date >= dt_year_before)).\\\n",
    "    order_by(Measurements.date).all()\n",
    "\n",
    "tobs_most_active_station = pd.DataFrame(lastyear_tobs)\n",
    "# set date as index\n",
    "tobs_most_active_station.set_index('date', inplace = True)\n",
    "# sort date by ascending order\n",
    "tobs_most_active_station.sort_index(ascending=True, inplace=True)\n",
    "# plot histogram with bins-12\n",
    "tobs_most_active_station.plot(kind =\"hist\", bins=12)"
   ]
  },
  {
   "cell_type": "markdown",
   "metadata": {},
   "source": [
    "## Optional Challenge Assignment"
   ]
  },
  {
   "cell_type": "markdown",
   "metadata": {},
   "source": [
    "### Temperature analysis-I\n",
    "\n",
    "* Hawaii is reputed to enjoy mild weather all year. Is there a meaningful difference between the temperature in, for example, June and December?\n",
    "\n",
    "* Identify the average temperature in June at all stations across all available years in the dataset. Do the same for December temperature.\n",
    "\n",
    "* Use the t-test to determine whether the difference in the means, if any, is statistically significant. Will you use a paired t-test, or an unpaired t-test? Why?"
   ]
  },
  {
   "cell_type": "code",
   "execution_count": 22,
   "metadata": {},
   "outputs": [],
   "source": [
    "# Calculate the average temperature for moonth June and Dec\n",
    "avg_temp_june = session.query(func.avg(Measurements.tobs)).\\\n",
    "                        filter(extract(\"month\",Measurements.date) == \"06\").\\\n",
    "                        group_by(Measurements.station).all()\n",
    "avg_temp_june = np.ravel(avg_temp_june)\n",
    "avg_temp_dec = session.query(func.avg(Measurements.tobs)).\\\n",
    "                        filter(extract(\"month\",Measurements.date) == \"12\").\\\n",
    "                        group_by(Measurements.station).all()\n",
    "\n",
    "avg_temp_dec= np.ravel(avg_temp_dec)"
   ]
  },
  {
   "cell_type": "code",
   "execution_count": 23,
   "metadata": {},
   "outputs": [
    {
     "data": {
      "text/plain": [
       "Ttest_relResult(statistic=6.95696617044294, pvalue=0.00011759380231523222)"
      ]
     },
     "execution_count": 23,
     "metadata": {},
     "output_type": "execute_result"
    }
   ],
   "source": [
    "# Here same sample has been used to perform the ttest but it is used with different time.\n",
    "# So paired ttest is used for analysis.\n",
    "stats.ttest_rel(avg_temp_june, avg_temp_dec)"
   ]
  },
  {
   "cell_type": "markdown",
   "metadata": {},
   "source": [
    "### Here both of the samples are same, but observations are taken at different time, one in June and other in Dec. So Paired t-test has been used to analyse the difference between the two groups.\n",
    "### p-value for t-test, is very less than 0.05, so there is statistically significant difference between the two groups."
   ]
  },
  {
   "cell_type": "markdown",
   "metadata": {},
   "source": [
    "## Temperature analysis-II\n",
    "\n",
    "* Write a function called calc_temps that will accept a start date and end date in the format %Y-%m-%d and return the minimum, average, and maximum temperatures for that range of dates.\n",
    "* Use the calc_temps function to calculate the min, avg, and max temperatures for your trip using the matching dates from the previous year (i.e., use \"2017-01-01\" if your trip start date was \"2018-01-01\").\n",
    "* Plot the min, avg, and max temperature from your previous query as a bar chart.\n",
    "* Use the average temperature as the bar height.\n",
    "* Use the peak-to-peak (tmax-tmin) value as the y error bar (yerr)."
   ]
  },
  {
   "cell_type": "code",
   "execution_count": 24,
   "metadata": {},
   "outputs": [],
   "source": [
    "# This function called `calc_temps` will accept start date and end date in the format '%Y-%m-%d' \n",
    "# and return the minimum, average, and maximum temperatures for that range of dates\n",
    "\n",
    "def calc_temp(start_date, end_date):\n",
    "    \"\"\"TMIN, TAVG, and TMAX for a list of dates.\n",
    "    \n",
    "    Args:\n",
    "        start_date (string): A date string in the format %Y-%m-%d\n",
    "        end_date (string): A date string in the format %Y-%m-%d\n",
    "        \n",
    "    Returns:\n",
    "        TMIN, TAVE, and TMAX\n",
    "    \"\"\"    \n",
    "    sel =[func.min(Measurements.tobs),\n",
    "         func.avg(Measurements.tobs),\n",
    "         func.max(Measurements.tobs)]\n",
    "\n",
    "    return session.query(*sel).\\\n",
    "                        filter(Measurements.date >= start_date).\\\n",
    "                        filter(Measurements.date <= end_date).all()"
   ]
  },
  {
   "cell_type": "code",
   "execution_count": 25,
   "metadata": {},
   "outputs": [
    {
     "name": "stdout",
     "output_type": "stream",
     "text": [
      "[(62.0, 69.57142857142857, 74.0)]\n"
     ]
    }
   ],
   "source": [
    "start_date = '2012-02-28'\n",
    "end_date = '2012-03-05'\n",
    "print(calc_temp(start_date, end_date))"
   ]
  },
  {
   "cell_type": "code",
   "execution_count": 26,
   "metadata": {},
   "outputs": [
    {
     "name": "stdout",
     "output_type": "stream",
     "text": [
      "[(62.0, 69.57142857142857, 74.0)]\n"
     ]
    }
   ],
   "source": [
    "start_date = \"2012-02-28\"\n",
    "end_date = \"2012-03-05\"\n",
    "print(calc_temp(start_date, end_date))"
   ]
  },
  {
   "cell_type": "code",
   "execution_count": 27,
   "metadata": {},
   "outputs": [
    {
     "data": {
      "text/plain": [
       "datetime.date(2017, 2, 28)"
      ]
     },
     "execution_count": 27,
     "metadata": {},
     "output_type": "execute_result"
    }
   ],
   "source": [
    "trip_start_date = \"2020-02-28\"\n",
    "trip_end_date = \"2020-03-05\"\n",
    "trip_start_date = dt.datetime.strptime(trip_start_date, '%Y-%m-%d')\n",
    "trip_end_date = dt.datetime.strptime(trip_end_date, '%Y-%m-%d')\n",
    "\n",
    "start_year = int(dt.datetime.strftime(trip_start_date, '%Y'))\n",
    "start_month = int(dt.datetime.strftime(trip_start_date, '%m'))\n",
    "start_day = int(dt.datetime.strftime(trip_start_date, '%d'))\n",
    "prev_3year_start_date = dt.date(start_year, start_month, start_day) - relativedelta(years=3)\n",
    "prev_3year_start_date"
   ]
  },
  {
   "cell_type": "code",
   "execution_count": 28,
   "metadata": {},
   "outputs": [
    {
     "data": {
      "text/plain": [
       "datetime.date(2017, 3, 5)"
      ]
     },
     "execution_count": 28,
     "metadata": {},
     "output_type": "execute_result"
    }
   ],
   "source": [
    "end_year = int(dt.datetime.strftime(trip_end_date, '%Y'))\n",
    "end_month = int(dt.datetime.strftime(trip_end_date, '%m'))\n",
    "end_day = int(dt.datetime.strftime(trip_end_date, '%d'))\n",
    "prev_3year_end_date = dt.date(end_year, end_month, end_day) - relativedelta(years=3)\n",
    "prev_3year_end_date"
   ]
  },
  {
   "cell_type": "code",
   "execution_count": 29,
   "metadata": {},
   "outputs": [
    {
     "name": "stdout",
     "output_type": "stream",
     "text": [
      "[(64.0, 72.02777777777777, 78.0)]\n"
     ]
    }
   ],
   "source": [
    "print(calc_temp(prev_3year_start_date, prev_3year_end_date))"
   ]
  },
  {
   "cell_type": "code",
   "execution_count": 44,
   "metadata": {},
   "outputs": [
    {
     "data": {
      "image/png": "[encoded data removed]",
      "text/plain": [
       "<Figure size 576x360 with 1 Axes>"
      ]
     },
     "metadata": {
      "needs_background": "light"
     },
     "output_type": "display_data"
    }
   ],
   "source": [
    "# Plot the min, avg, and max temperature from your previous query as a bar chart.\n",
    "# Use the average temperature as the bar height.\n",
    "# Use the peak-to-peak (tmax-tmin) value as the y error bar (yerr).\n",
    "\n",
    "temp_data = calc_temp(prev_3year_start_date, prev_3year_end_date)\n",
    "tmin = temp_data[0][0]\n",
    "tavg = temp_data[0][1]\n",
    "tmax = temp_data[0][2]\n",
    "\n",
    "date = \"2017-08-23\"\n",
    "fig, ax = plt.subplots(figsize=(8,5))\n",
    "ax.bar(1, tavg, yerr=(tmax-tmin), color=\"orange\", width = 0.6)\n",
    "ax.set_ylabel(\"Temp(F)\")\n",
    "ax.set_title(\"Trip Avg Temp\")\n",
    "ax.set_xlim(0,2)\n",
    "plt.tight_layout()\n",
    "plt.show()"
   ]
  },
  {
   "cell_type": "markdown",
   "metadata": {},
   "source": [
    "## Daily Rainfall Average\n",
    "\n",
    "* Calculate the rainfall per weather station using the previous year's matching dates.\n",
    "* Calculate the daily normals. Normals are the averages for the min, avg, and max temperatures.\n",
    "* Write a function called daily_normals that will calculate the daily normals for a specific date. This date string will be in the format %m-%d. Be sure to use all historic tobs that match that date string.\n",
    "* Create a list of dates for your trip in the format %m-%d. Use the daily_normals function to calculate the normals for each date string and append the results to a list.\n",
    "* Load the list of daily normals into a Pandas DataFrame and set the index equal to the date.\n",
    "* Use Pandas to plot an area plot (stacked=False) for the daily normals."
   ]
  },
  {
   "cell_type": "code",
   "execution_count": 31,
   "metadata": {},
   "outputs": [
    {
     "data": {
      "text/plain": [
       "[('USC00519281', 4.720000000000001),\n",
       " ('USC00513117', 4.45),\n",
       " ('USC00516128', 4.07),\n",
       " ('USC00517948', 2.98),\n",
       " ('USC00519397', 2.7399999999999998),\n",
       " ('USC00519523', 2.32),\n",
       " ('USC00514830', 1.1600000000000001)]"
      ]
     },
     "execution_count": 31,
     "metadata": {},
     "output_type": "execute_result"
    }
   ],
   "source": [
    "# Calculate the rainfall per weather station using the previous year's matching dates.\n",
    "rainfall_station = session.query(Measurements.station, func.sum(Measurements.prcp).label(\"Total_Precipitation\")).\\\n",
    "                           filter(Measurements.date >= prev_3year_start_date, Measurements.date<=prev_3year_end_date).\\\n",
    "                           group_by(Measurements.station).\\\n",
    "                           order_by(desc(\"Total_Precipitation\")).all()\n",
    "\n",
    "rainfall_station"
   ]
  },
  {
   "cell_type": "code",
   "execution_count": 32,
   "metadata": {},
   "outputs": [
    {
     "data": {
      "text/plain": [
       "[(78.0, 64.0, 72.02777777777777)]"
      ]
     },
     "execution_count": 32,
     "metadata": {},
     "output_type": "execute_result"
    }
   ],
   "source": [
    "# Calculate the daily normals. Normals are the averages for the min, avg, and max temperatures.\n",
    "daily_normals_tobs = session.query(func.max(Measurements.tobs), func.min(Measurements.tobs), func.avg(Measurements.tobs)).\\\n",
    "                        filter(Measurements.date >= prev_3year_start_date, Measurements.date<=prev_3year_end_date).all()\n",
    "daily_normals_tobs"
   ]
  },
  {
   "cell_type": "code",
   "execution_count": 33,
   "metadata": {},
   "outputs": [
    {
     "data": {
      "text/plain": [
       "[('05-22', 80.0, 64.0, 74.45614035087719)]"
      ]
     },
     "execution_count": 33,
     "metadata": {},
     "output_type": "execute_result"
    }
   ],
   "source": [
    "# You are provided with a function called daily_normals that will calculate the daily normals for a specific date. This date string will be in the format %m-%d. Be sure to use all historic tobs that match that date string.\n",
    "def daily_normals(date):\n",
    "    daily_normal_date = session.query(func.strftime(\"%m-%d\",Measurements.date), func.max(Measurements.tobs), func.min(Measurements.tobs), func.avg(Measurements.tobs)).\\\n",
    "                                filter(func.strftime(\"%m-%d\",Measurements.date) == date).all()\n",
    "    return daily_normal_date\n",
    "daily_normals(\"05-22\")"
   ]
  },
  {
   "cell_type": "code",
   "execution_count": 34,
   "metadata": {},
   "outputs": [
    {
     "data": {
      "text/plain": [
       "['02-28', '02-29', '03-01', '03-02', '03-03', '03-04', '03-05']"
      ]
     },
     "execution_count": 34,
     "metadata": {},
     "output_type": "execute_result"
    }
   ],
   "source": [
    "# Create a list of dates for your trip in the format %m-%d. Use the daily_normals function to calculate the normals for each date string and append the results to a list.\n",
    "trip_length = trip_end_date-trip_start_date\n",
    "x = trip_length.days\n",
    "start_date = trip_start_date\n",
    "start_dt = [dt.datetime.strftime(start_date,\"%m-%d\")]\n",
    "trip_date_list = start_dt\n",
    "while (x!=0):\n",
    "    trip_date_list.append(dt.datetime.strftime(start_date + dt.timedelta(days=1),\"%m-%d\"))\n",
    "    start_date = start_date + dt.timedelta(days=1)\n",
    "    x = x-1\n",
    "trip_date_list"
   ]
  },
  {
   "cell_type": "code",
   "execution_count": 35,
   "metadata": {},
   "outputs": [
    {
     "data": {
      "text/plain": [
       "[array(['02-28', '80.0', '65.0', '70.65517241379311'], dtype='<U17'),\n",
       " array(['02-29', '79.0', '67.0', '71.73333333333333'], dtype='<U17'),\n",
       " array(['03-01', '76.0', '64.0', '70.0327868852459'], dtype='<U16'),\n",
       " array(['03-02', '78.0', '61.0', '70.36666666666666'], dtype='<U17'),\n",
       " array(['03-03', '78.0', '60.0', '70.06896551724138'], dtype='<U17'),\n",
       " array(['03-04', '77.0', '57.0', '69.27272727272727'], dtype='<U17'),\n",
       " array(['03-05', '76.0', '60.0', '67.89090909090909'], dtype='<U17')]"
      ]
     },
     "execution_count": 35,
     "metadata": {},
     "output_type": "execute_result"
    }
   ],
   "source": [
    "trip_daily_normals = [daily_normals(date) for date in trip_date_list]\n",
    "trip_daily_normals = [np.ravel(normal[0]) for normal in trip_daily_normals]\n",
    "trip_daily_normals"
   ]
  },
  {
   "cell_type": "code",
   "execution_count": 36,
   "metadata": {},
   "outputs": [
    {
     "data": {
      "text/html": [
       "<div>\n",
       "<style scoped>\n",
       "    .dataframe tbody tr th:only-of-type {\n",
       "        vertical-align: middle;\n",
       "    }\n",
       "\n",
       "    .dataframe tbody tr th {\n",
       "        vertical-align: top;\n",
       "    }\n",
       "\n",
       "    .dataframe thead th {\n",
       "        text-align: right;\n",
       "    }\n",
       "</style>\n",
       "<table border=\"1\" class=\"dataframe\">\n",
       "  <thead>\n",
       "    <tr style=\"text-align: right;\">\n",
       "      <th></th>\n",
       "      <th>Max_Temp</th>\n",
       "      <th>Min_Temp</th>\n",
       "      <th>Avg_Temp</th>\n",
       "    </tr>\n",
       "    <tr>\n",
       "      <th>Date</th>\n",
       "      <th></th>\n",
       "      <th></th>\n",
       "      <th></th>\n",
       "    </tr>\n",
       "  </thead>\n",
       "  <tbody>\n",
       "    <tr>\n",
       "      <th>02-28</th>\n",
       "      <td>80.0</td>\n",
       "      <td>65.0</td>\n",
       "      <td>70.65517241379311</td>\n",
       "    </tr>\n",
       "    <tr>\n",
       "      <th>02-29</th>\n",
       "      <td>79.0</td>\n",
       "      <td>67.0</td>\n",
       "      <td>71.73333333333333</td>\n",
       "    </tr>\n",
       "    <tr>\n",
       "      <th>03-01</th>\n",
       "      <td>76.0</td>\n",
       "      <td>64.0</td>\n",
       "      <td>70.0327868852459</td>\n",
       "    </tr>\n",
       "    <tr>\n",
       "      <th>03-02</th>\n",
       "      <td>78.0</td>\n",
       "      <td>61.0</td>\n",
       "      <td>70.36666666666666</td>\n",
       "    </tr>\n",
       "    <tr>\n",
       "      <th>03-03</th>\n",
       "      <td>78.0</td>\n",
       "      <td>60.0</td>\n",
       "      <td>70.06896551724138</td>\n",
       "    </tr>\n",
       "    <tr>\n",
       "      <th>03-04</th>\n",
       "      <td>77.0</td>\n",
       "      <td>57.0</td>\n",
       "      <td>69.27272727272727</td>\n",
       "    </tr>\n",
       "    <tr>\n",
       "      <th>03-05</th>\n",
       "      <td>76.0</td>\n",
       "      <td>60.0</td>\n",
       "      <td>67.89090909090909</td>\n",
       "    </tr>\n",
       "  </tbody>\n",
       "</table>\n",
       "</div>"
      ],
      "text/plain": [
       "      Max_Temp Min_Temp           Avg_Temp\n",
       "Date                                      \n",
       "02-28     80.0     65.0  70.65517241379311\n",
       "02-29     79.0     67.0  71.73333333333333\n",
       "03-01     76.0     64.0   70.0327868852459\n",
       "03-02     78.0     61.0  70.36666666666666\n",
       "03-03     78.0     60.0  70.06896551724138\n",
       "03-04     77.0     57.0  69.27272727272727\n",
       "03-05     76.0     60.0  67.89090909090909"
      ]
     },
     "execution_count": 36,
     "metadata": {},
     "output_type": "execute_result"
    }
   ],
   "source": [
    "# Load the list of daily normals into a Pandas DataFrame and set the index equal to the date.\n",
    "trip_daily_normals_df = pd.DataFrame(trip_daily_normals, columns = [\"Date\", \"Max_Temp\", \"Min_Temp\", \"Avg_Temp\"])\n",
    "trip_daily_normals_df.set_index(\"Date\", inplace=True)\n",
    "trip_daily_normals_df"
   ]
  },
  {
   "cell_type": "code",
   "execution_count": 37,
   "metadata": {},
   "outputs": [
    {
     "data": {
      "text/html": [
       "<div>\n",
       "<style scoped>\n",
       "    .dataframe tbody tr th:only-of-type {\n",
       "        vertical-align: middle;\n",
       "    }\n",
       "\n",
       "    .dataframe tbody tr th {\n",
       "        vertical-align: top;\n",
       "    }\n",
       "\n",
       "    .dataframe thead th {\n",
       "        text-align: right;\n",
       "    }\n",
       "</style>\n",
       "<table border=\"1\" class=\"dataframe\">\n",
       "  <thead>\n",
       "    <tr style=\"text-align: right;\">\n",
       "      <th></th>\n",
       "      <th>Max_Temp</th>\n",
       "      <th>Min_Temp</th>\n",
       "      <th>Avg_Temp</th>\n",
       "    </tr>\n",
       "    <tr>\n",
       "      <th>Date</th>\n",
       "      <th></th>\n",
       "      <th></th>\n",
       "      <th></th>\n",
       "    </tr>\n",
       "  </thead>\n",
       "  <tbody>\n",
       "    <tr>\n",
       "      <th>02-28</th>\n",
       "      <td>80.0</td>\n",
       "      <td>65.0</td>\n",
       "      <td>70.655172</td>\n",
       "    </tr>\n",
       "    <tr>\n",
       "      <th>02-29</th>\n",
       "      <td>79.0</td>\n",
       "      <td>67.0</td>\n",
       "      <td>71.733333</td>\n",
       "    </tr>\n",
       "    <tr>\n",
       "      <th>03-01</th>\n",
       "      <td>76.0</td>\n",
       "      <td>64.0</td>\n",
       "      <td>70.032787</td>\n",
       "    </tr>\n",
       "    <tr>\n",
       "      <th>03-02</th>\n",
       "      <td>78.0</td>\n",
       "      <td>61.0</td>\n",
       "      <td>70.366667</td>\n",
       "    </tr>\n",
       "    <tr>\n",
       "      <th>03-03</th>\n",
       "      <td>78.0</td>\n",
       "      <td>60.0</td>\n",
       "      <td>70.068966</td>\n",
       "    </tr>\n",
       "    <tr>\n",
       "      <th>03-04</th>\n",
       "      <td>77.0</td>\n",
       "      <td>57.0</td>\n",
       "      <td>69.272727</td>\n",
       "    </tr>\n",
       "    <tr>\n",
       "      <th>03-05</th>\n",
       "      <td>76.0</td>\n",
       "      <td>60.0</td>\n",
       "      <td>67.890909</td>\n",
       "    </tr>\n",
       "  </tbody>\n",
       "</table>\n",
       "</div>"
      ],
      "text/plain": [
       "       Max_Temp  Min_Temp   Avg_Temp\n",
       "Date                                \n",
       "02-28      80.0      65.0  70.655172\n",
       "02-29      79.0      67.0  71.733333\n",
       "03-01      76.0      64.0  70.032787\n",
       "03-02      78.0      61.0  70.366667\n",
       "03-03      78.0      60.0  70.068966\n",
       "03-04      77.0      57.0  69.272727\n",
       "03-05      76.0      60.0  67.890909"
      ]
     },
     "execution_count": 37,
     "metadata": {},
     "output_type": "execute_result"
    }
   ],
   "source": [
    "trip_daily_normals_df[\"Max_Temp\"] = pd.to_numeric(trip_daily_normals_df[\"Max_Temp\"])\n",
    "trip_daily_normals_df[\"Min_Temp\"] = pd.to_numeric(trip_daily_normals_df[\"Min_Temp\"])\n",
    "trip_daily_normals_df[\"Avg_Temp\"] = pd.to_numeric(trip_daily_normals_df[\"Avg_Temp\"])\n",
    "trip_daily_normals_df"
   ]
  },
  {
   "cell_type": "code",
   "execution_count": 38,
   "metadata": {},
   "outputs": [
    {
     "data": {
      "image/png": "[encoded data removed]",
      "text/plain": [
       "<Figure size 432x288 with 1 Axes>"
      ]
     },
     "metadata": {
      "needs_background": "light"
     },
     "output_type": "display_data"
    }
   ],
   "source": [
    "# Use Pandas to plot an area plot (stacked=False) for the daily normals.\n",
    "trip_daily_normals_df.plot.area(stacked=False, rot=45)\n",
    "plt.show()"
   ]
  },
  {
   "cell_type": "code",
   "execution_count": null,
   "metadata": {},
   "outputs": [],
   "source": []
  }
 ],
 "metadata": {
  "kernelspec": {
   "display_name": "Conda [PythonData]",
   "language": "python",
   "name": "pythondata"
  },
  "language_info": {
   "codemirror_mode": {
    "name": "ipython",
    "version": 3
   },
   "file_extension": ".py",
   "mimetype": "text/x-python",
   "name": "python",
   "nbconvert_exporter": "python",
   "pygments_lexer": "ipython3",
   "version": "3.7.3"
  }
 },
 "nbformat": 4,
 "nbformat_minor": 2
}
